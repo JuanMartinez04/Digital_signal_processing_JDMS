{
  "nbformat": 4,
  "nbformat_minor": 0,
  "metadata": {
    "colab": {
      "provenance": [],
      "authorship_tag": "ABX9TyPTbqDS1e2Ua8JovfSSErLC",
      "include_colab_link": true
    },
    "kernelspec": {
      "name": "python3",
      "display_name": "Python 3"
    },
    "language_info": {
      "name": "python"
    }
  },
  "cells": [
    {
      "cell_type": "markdown",
      "metadata": {
        "id": "view-in-github",
        "colab_type": "text"
      },
      "source": [
        "<a href=\"https://colab.research.google.com/github/JuanMartinez04/Digital_signal_processing_JDMS/blob/main/Fourier_matricial.ipynb\" target=\"_parent\"><img src=\"https://colab.research.google.com/assets/colab-badge.svg\" alt=\"Open In Colab\"/></a>"
      ]
    },
    {
      "cell_type": "markdown",
      "source": [
        "##Fourier matricial, matriz cuadrada y rectangular\n",
        "\n",
        "Hecho por Juan David Martínez"
      ],
      "metadata": {
        "id": "vSHv2T88cEsg"
      }
    },
    {
      "cell_type": "code",
      "execution_count": 6,
      "metadata": {
        "id": "4jEIQWSxA3_N"
      },
      "outputs": [],
      "source": [
        "import numpy as np\n",
        "import matplotlib.pyplot as plt\n",
        "from scipy.linalg import dft\n",
        "\n",
        "\n"
      ]
    },
    {
      "cell_type": "markdown",
      "source": [
        "\n",
        "# Transformada de Fourier Matricial\n",
        "\n",
        "La Transformada de Fourier Discreta (DFT) puede representarse en forma matricial.\n",
        "Si tenemos un vector de entrada $ x $ con $ N $ elementos, la DFT se puede calcular como:\n",
        "\n",
        "$$\n",
        "X = F \\cdot x\n",
        "$$\n",
        "\n",
        "donde $ F $ es la matriz de Fourier de tamaño $ N \\times N $ cuyos términos están definidos por:\n",
        "\n",
        "$$\n",
        "F[k, n] = e^{-2\\pi i k n / N}\n",
        "$$\n",
        "\n",
        "Cuando $ F $ es cuadrada ($ N = M $), la transformación es perfectamente invertible usando la IDFT.\n",
        "Si la matriz no es cuadrada ($ M \\neq N $), la transformación no es biunívoca y puede implicar pérdida de información."
      ],
      "metadata": {
        "id": "SZVJ08stA-CB"
      }
    },
    {
      "cell_type": "markdown",
      "source": [
        "## Construcción de la matriz de Fourier\n",
        "\n",
        "La matriz de Fourier $ F $ es una matriz compleja cuyos elementos están definidos por:\n",
        "\n",
        "$$\n",
        "F[k, n] = e^{-2\\pi i k n / N}\n",
        "$$\n",
        "\n",
        "Esto significa que cada elemento de la matriz es una raíz de la unidad elevada a una potencia específica. Veamos cómo se construye esta matriz para un caso simple con $ N = 4 $:\n",
        "\n",
        "$$\n",
        "F = \\begin{bmatrix}\n",
        "1 & 1 & 1 & 1 \\\\\n",
        "1 & e^{-2\\pi i /4} & e^{-4\\pi i /4} & e^{-6\\pi i /4} \\\\\n",
        "1 & e^{-4\\pi i /4} & e^{-8\\pi i /4} & e^{-12\\pi i /4} \\\\\n",
        "1 & e^{-6\\pi i /4} & e^{-12\\pi i /4} & e^{-18\\pi i /4} \\\\\n",
        "\\end{bmatrix}\n",
        "$$\n",
        "\n",
        "Cada término es una potencia de la raíz de la unidad $ e^{-2\\pi i / N} $."
      ],
      "metadata": {
        "id": "kT6PMZZoD78O"
      }
    },
    {
      "cell_type": "code",
      "source": [
        "def matriz_fourier(N, M=None):\n",
        "    \"\"\"Genera la matriz de Fourier de dimensiones MxN.\"\"\"\n",
        "    if M is None:\n",
        "        M = N\n",
        "    F = np.zeros((M, N), dtype=complex)\n",
        "    for k in range(M):\n",
        "        for n in range(N):\n",
        "            F[k, n] = np.exp(-2j * np.pi * k * n / N)\n",
        "    return F"
      ],
      "metadata": {
        "id": "vzocqjBvDunI"
      },
      "execution_count": 7,
      "outputs": []
    },
    {
      "cell_type": "markdown",
      "source": [
        "## Caso 1: Matriz cuadrada\n",
        "\n",
        "Cuando $ F $ es cuadrada, la transformación mantiene toda la información y es reversible.\n",
        "Ejemplo para $ N = 4 $:\n",
        "\n",
        "$$\n",
        "F = \\frac{1}{2}\\begin{bmatrix}\n",
        "1 & 1 & 1 & 1 \\\\\n",
        "1 & i & -1 & -i \\\\\n",
        "1 & -1 & 1 & -1 \\\\\n",
        "1 & -i & -1 & i \\\\\n",
        "\\end{bmatrix}\n",
        "$$"
      ],
      "metadata": {
        "id": "l1msga-NJ7-I"
      }
    },
    {
      "cell_type": "code",
      "source": [
        "def prueba_cuadrada():\n",
        "    N = 4\n",
        "    F = matriz_fourier(N)\n",
        "    print(\"Matriz de Fourier (cuadrada, N=N):\")\n",
        "    print(F)\n",
        "\n",
        "    x = np.array([1, 2, 3, 4])\n",
        "    X = F @ x\n",
        "    print(\"Transformada de Fourier de x:\", X)\n",
        "\n",
        "prueba_cuadrada()"
      ],
      "metadata": {
        "colab": {
          "base_uri": "https://localhost:8080/"
        },
        "id": "8oxacZ5oKQXo",
        "outputId": "521df495-6ed7-4824-b719-82fd29c6b42e"
      },
      "execution_count": 8,
      "outputs": [
        {
          "output_type": "stream",
          "name": "stdout",
          "text": [
            "Matriz de Fourier (cuadrada, N=N):\n",
            "[[ 1.0000000e+00+0.0000000e+00j  1.0000000e+00+0.0000000e+00j\n",
            "   1.0000000e+00+0.0000000e+00j  1.0000000e+00+0.0000000e+00j]\n",
            " [ 1.0000000e+00+0.0000000e+00j  6.1232340e-17-1.0000000e+00j\n",
            "  -1.0000000e+00-1.2246468e-16j -1.8369702e-16+1.0000000e+00j]\n",
            " [ 1.0000000e+00+0.0000000e+00j -1.0000000e+00-1.2246468e-16j\n",
            "   1.0000000e+00+2.4492936e-16j -1.0000000e+00-3.6739404e-16j]\n",
            " [ 1.0000000e+00+0.0000000e+00j -1.8369702e-16+1.0000000e+00j\n",
            "  -1.0000000e+00-3.6739404e-16j  5.5109106e-16-1.0000000e+00j]]\n",
            "Transformada de Fourier de x: [10.+0.00000000e+00j -2.+2.00000000e+00j -2.-9.79717439e-16j\n",
            " -2.-2.00000000e+00j]\n"
          ]
        }
      ]
    },
    {
      "cell_type": "markdown",
      "source": [
        "## Caso 2: Matriz no cuadrada\n",
        "\n",
        "Si $ M \\neq N $, la transformación deja de ser biunívoca. Dependiendo de si $ M > N $ o $ M < N $,\n",
        "se puede perder información o generar una sobrerrepresentación de los datos.\n",
        "Ejemplo para $ M = 6, N = 4 $:\n",
        "\n",
        "$$\n",
        "F = \\begin{bmatrix}\n",
        "1 & 1 & 1 & 1 \\\\\n",
        "1 & e^{-2\\pi i /4} & e^{-4\\pi i /4} & e^{-6\\pi i /4} \\\\\n",
        "1 & e^{-4\\pi i /4} & e^{-8\\pi i /4} & e^{-12\\pi i /4} \\\\\n",
        "1 & e^{-6\\pi i /4} & e^{-12\\pi i /4} & e^{-18\\pi i /4} \\\\\n",
        "1 & e^{-8\\pi i /4} & e^{-16\\pi i /4} & e^{-24\\pi i /4} \\\\\n",
        "1 & e^{-10\\pi i /4} & e^{-20\\pi i /4} & e^{-30\\pi i /4} \\\\\n",
        "\\end{bmatrix}\n",
        "$$\n",
        "\n",
        "Esto genera una sobre-representación de las frecuencias, lo que puede afectar la interpretación de los datos transformados.\n"
      ],
      "metadata": {
        "id": "M_95LZZ-gd-4"
      }
    },
    {
      "cell_type": "code",
      "source": [
        "def prueba_no_cuadrada():\n",
        "    N = 4  # Número de muestras de entrada\n",
        "    M = 6  # Número de coeficientes en la salida (sobredimensionada)\n",
        "    F = matriz_fourier(N, M)\n",
        "    print(\"Matriz de Fourier (no cuadrada, M>N):\")\n",
        "    print(F)\n",
        "\n",
        "    x = np.array([1, 2, 3, 4])\n",
        "    X = F @ x\n",
        "    print(\"Transformada de Fourier de x con matriz no cuadrada:\", X)\n",
        "prueba_no_cuadrada()"
      ],
      "metadata": {
        "colab": {
          "base_uri": "https://localhost:8080/"
        },
        "id": "bon5Fhn9KXzL",
        "outputId": "708aaf02-f65d-42a9-9cc7-89ce71dfcbfa"
      },
      "execution_count": 9,
      "outputs": [
        {
          "output_type": "stream",
          "name": "stdout",
          "text": [
            "Matriz de Fourier (no cuadrada, M>N):\n",
            "[[ 1.00000000e+00+0.00000000e+00j  1.00000000e+00+0.00000000e+00j\n",
            "   1.00000000e+00+0.00000000e+00j  1.00000000e+00+0.00000000e+00j]\n",
            " [ 1.00000000e+00+0.00000000e+00j  6.12323400e-17-1.00000000e+00j\n",
            "  -1.00000000e+00-1.22464680e-16j -1.83697020e-16+1.00000000e+00j]\n",
            " [ 1.00000000e+00+0.00000000e+00j -1.00000000e+00-1.22464680e-16j\n",
            "   1.00000000e+00+2.44929360e-16j -1.00000000e+00-3.67394040e-16j]\n",
            " [ 1.00000000e+00+0.00000000e+00j -1.83697020e-16+1.00000000e+00j\n",
            "  -1.00000000e+00-3.67394040e-16j  5.51091060e-16-1.00000000e+00j]\n",
            " [ 1.00000000e+00+0.00000000e+00j  1.00000000e+00+2.44929360e-16j\n",
            "   1.00000000e+00+4.89858720e-16j  1.00000000e+00+7.34788079e-16j]\n",
            " [ 1.00000000e+00+0.00000000e+00j  3.06161700e-16-1.00000000e+00j\n",
            "  -1.00000000e+00-6.12323400e-16j -2.69484194e-15+1.00000000e+00j]]\n",
            "Transformada de Fourier de x con matriz no cuadrada: [10.+0.00000000e+00j -2.+2.00000000e+00j -2.-9.79717439e-16j\n",
            " -2.-2.00000000e+00j 10.+4.89858720e-15j -2.+2.00000000e+00j]\n"
          ]
        }
      ]
    },
    {
      "cell_type": "code",
      "source": [
        "import matplotlib.pyplot as plt\n",
        "\n",
        "# Definir la función para calcular la DFT mediante la matriz de Fourier\n",
        "def dft_matrix(N):\n",
        "    k = np.arange(N)\n",
        "    n = k.reshape((N, 1))  # Convertir en columna para el producto matricial\n",
        "    W = np.exp(-2j * np.pi * k * n / N)\n",
        "    return W\n",
        "\n",
        "# Señal de ejemplo\n",
        "N = 8  # Tamaño de la señal\n",
        "t = np.arange(N)\n",
        "x = np.sin(2 * np.pi * t / N)  # Señal senoidal de ejemplo\n",
        "\n",
        "# Calcular la DFT usando la matriz de Fourier\n",
        "W = dft_matrix(N)\n",
        "X = W @ x  # Multiplicación matricial\n",
        "\n",
        "# Mostrar la matriz de Fourier\n",
        "print(\"Matriz de Fourier W_N:\")\n",
        "print(np.round(W, 3))  # Redondear para mejor visualización\n",
        "\n",
        "# Graficar la transformada de Fourier\n",
        "\n",
        "plt.stem(np.abs(X))\n",
        "plt.title(\"Magnitud de la Transformada de Fourier\")\n",
        "plt.xlabel(\"Frecuencia\")\n",
        "plt.ylabel(\"Magnitud\")\n",
        "\n",
        "\n",
        "plt.tight_layout()\n",
        "plt.show()\n"
      ],
      "metadata": {
        "colab": {
          "base_uri": "https://localhost:8080/",
          "height": 782
        },
        "id": "pTexXaP0-Y0x",
        "outputId": "801ab043-d040-4f88-c2a4-eca3789bea82"
      },
      "execution_count": 12,
      "outputs": [
        {
          "output_type": "stream",
          "name": "stdout",
          "text": [
            "Matriz de Fourier W_N:\n",
            "[[ 1.   +0.j     1.   +0.j     1.   +0.j     1.   +0.j     1.   +0.j\n",
            "   1.   +0.j     1.   +0.j     1.   +0.j   ]\n",
            " [ 1.   +0.j     0.707-0.707j  0.   -1.j    -0.707-0.707j -1.   -0.j\n",
            "  -0.707+0.707j -0.   +1.j     0.707+0.707j]\n",
            " [ 1.   +0.j     0.   -1.j    -1.   -0.j    -0.   +1.j     1.   +0.j\n",
            "   0.   -1.j    -1.   -0.j    -0.   +1.j   ]\n",
            " [ 1.   +0.j    -0.707-0.707j -0.   +1.j     0.707-0.707j -1.   -0.j\n",
            "   0.707+0.707j  0.   -1.j    -0.707+0.707j]\n",
            " [ 1.   +0.j    -1.   -0.j     1.   +0.j    -1.   -0.j     1.   +0.j\n",
            "  -1.   -0.j     1.   +0.j    -1.   -0.j   ]\n",
            " [ 1.   +0.j    -0.707+0.707j  0.   -1.j     0.707+0.707j -1.   -0.j\n",
            "   0.707-0.707j -0.   +1.j    -0.707-0.707j]\n",
            " [ 1.   +0.j    -0.   +1.j    -1.   -0.j     0.   -1.j     1.   +0.j\n",
            "  -0.   +1.j    -1.   -0.j    -0.   -1.j   ]\n",
            " [ 1.   +0.j     0.707+0.707j -0.   +1.j    -0.707+0.707j -1.   -0.j\n",
            "  -0.707-0.707j -0.   -1.j     0.707-0.707j]]\n"
          ]
        },
        {
          "output_type": "display_data",
          "data": {
            "text/plain": [
              "<Figure size 640x480 with 1 Axes>"
            ],
            "image/png": "[encoded data removed]"
          },
          "metadata": {}
        }
      ]
    },
    {
      "cell_type": "code",
      "source": [
        "# Definir la función para calcular la DFT mediante la matriz de Fourier rectangular\n",
        "def dft_matrix_rectangular(M, N):\n",
        "    k = np.arange(M)\n",
        "    n = np.arange(N).reshape((N, 1))  # Convertir en columna para el producto matricial\n",
        "    W = np.exp(-2j * np.pi * k * n / N)\n",
        "    return W\n",
        "\n",
        "# Parámetros de la señal\n",
        "N = 8  # Número de muestras de la señal\n",
        "t = np.arange(N)\n",
        "x = np.sin(2 * np.pi * t / N)  # Señal senoidal de ejemplo\n",
        "\n",
        "# Definir la matriz rectangular (M > N o M < N)\n",
        "M = 6  # Número de filas de la matriz (puede ser diferente de N)\n",
        "W_rect = dft_matrix_rectangular(M, N)\n",
        "print(W_rect.shape)\n",
        "\n",
        "X_rect = x@W_rect   # Multiplicación matricial\n",
        "\n",
        "# Mostrar la matriz de Fourier rectangular\n",
        "print(\"Matriz de Fourier rectangular W_MxN:\")\n",
        "print(np.round(W_rect, 3))  # Redondear para mejor visualización\n",
        "\n",
        "# Graficar la transformada de Fourier rectangular\n",
        "plt.figure(figsize=(10, 5))\n",
        "\n",
        "plt.stem(np.abs(X_rect))\n",
        "plt.title(\"Magnitud de la Transformada de Fourier Rectangular\")\n",
        "plt.xlabel(\"Frecuencia\")\n",
        "plt.ylabel(\"Magnitud\")\n",
        "\n",
        "\n",
        "\n",
        "plt.tight_layout()\n",
        "plt.show()"
      ],
      "metadata": {
        "colab": {
          "base_uri": "https://localhost:8080/",
          "height": 819
        },
        "id": "RYkXmdIjZdpp",
        "outputId": "4a089e67-ac4c-455f-d7af-54c3ef78608e"
      },
      "execution_count": 19,
      "outputs": [
        {
          "output_type": "stream",
          "name": "stdout",
          "text": [
            "(8, 6)\n",
            "Matriz de Fourier rectangular W_MxN:\n",
            "[[ 1.   +0.j     1.   +0.j     1.   +0.j     1.   +0.j     1.   +0.j\n",
            "   1.   +0.j   ]\n",
            " [ 1.   +0.j     0.707-0.707j  0.   -1.j    -0.707-0.707j -1.   -0.j\n",
            "  -0.707+0.707j]\n",
            " [ 1.   +0.j     0.   -1.j    -1.   -0.j    -0.   +1.j     1.   +0.j\n",
            "   0.   -1.j   ]\n",
            " [ 1.   +0.j    -0.707-0.707j -0.   +1.j     0.707-0.707j -1.   -0.j\n",
            "   0.707+0.707j]\n",
            " [ 1.   +0.j    -1.   -0.j     1.   +0.j    -1.   -0.j     1.   +0.j\n",
            "  -1.   -0.j   ]\n",
            " [ 1.   +0.j    -0.707+0.707j  0.   -1.j     0.707+0.707j -1.   -0.j\n",
            "   0.707-0.707j]\n",
            " [ 1.   +0.j    -0.   +1.j    -1.   -0.j     0.   -1.j     1.   +0.j\n",
            "  -0.   +1.j   ]\n",
            " [ 1.   +0.j     0.707+0.707j -0.   +1.j    -0.707+0.707j -1.   -0.j\n",
            "  -0.707-0.707j]]\n"
          ]
        },
        {
          "output_type": "display_data",
          "data": {
            "text/plain": [
              "<Figure size 1000x500 with 1 Axes>"
            ],
            "image/png": "[encoded data removed]"
          },
          "metadata": {}
        }
      ]
    },
    {
      "cell_type": "code",
      "source": [],
      "metadata": {
        "id": "QRtXADC6aTnf"
      },
      "execution_count": null,
      "outputs": []
    }
  ]
}